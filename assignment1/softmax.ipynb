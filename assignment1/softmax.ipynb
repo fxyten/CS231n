{
 "cells": [
  {
   "cell_type": "markdown",
   "metadata": {
    "tags": [
     "pdf-title"
    ]
   },
   "source": [
    "# Softmax exercise\n",
    "\n",
    "*Complete and hand in this completed worksheet (including its outputs and any supporting code outside of the worksheet) with your assignment submission. For more details see the [assignments page](http://vision.stanford.edu/teaching/cs231n/assignments.html) on the course website.*\n",
    "\n",
    "This exercise is analogous to the SVM exercise. You will:\n",
    "\n",
    "- implement a fully-vectorized **loss function** for the Softmax classifier\n",
    "- implement the fully-vectorized expression for its **analytic gradient**\n",
    "- **check your implementation** with numerical gradient\n",
    "- use a validation set to **tune the learning rate and regularization** strength\n",
    "- **optimize** the loss function with **SGD**\n",
    "- **visualize** the final learned weights\n"
   ]
  },
  {
   "cell_type": "code",
   "execution_count": 1,
   "metadata": {
    "tags": [
     "pdf-ignore"
    ]
   },
   "outputs": [],
   "source": [
    "import random\n",
    "import numpy as np\n",
    "from cs231n.data_utils import load_CIFAR10\n",
    "import matplotlib.pyplot as plt\n",
    "\n",
    "%matplotlib inline\n",
    "plt.rcParams['figure.figsize'] = (10.0, 8.0) # set default size of plots\n",
    "plt.rcParams['image.interpolation'] = 'nearest'\n",
    "plt.rcParams['image.cmap'] = 'gray'\n",
    "\n",
    "# for auto-reloading extenrnal modules\n",
    "# see http://stackoverflow.com/questions/1907993/autoreload-of-modules-in-ipython\n",
    "%load_ext autoreload\n",
    "%autoreload 2"
   ]
  },
  {
   "cell_type": "code",
   "execution_count": 2,
   "metadata": {
    "tags": [
     "pdf-ignore"
    ]
   },
   "outputs": [
    {
     "name": "stdout",
     "output_type": "stream",
     "text": [
      "Train data shape:  (49000, 3073)\n",
      "Train labels shape:  (49000,)\n",
      "Validation data shape:  (1000, 3073)\n",
      "Validation labels shape:  (1000,)\n",
      "Test data shape:  (1000, 3073)\n",
      "Test labels shape:  (1000,)\n",
      "dev data shape:  (500, 3073)\n",
      "dev labels shape:  (500,)\n"
     ]
    }
   ],
   "source": [
    "def get_CIFAR10_data(num_training=49000, num_validation=1000, num_test=1000, num_dev=500):\n",
    "    \"\"\"\n",
    "    Load the CIFAR-10 dataset from disk and perform preprocessing to prepare\n",
    "    it for the linear classifier. These are the same steps as we used for the\n",
    "    SVM, but condensed to a single function.  \n",
    "    \"\"\"\n",
    "    # Load the raw CIFAR-10 data\n",
    "    cifar10_dir = 'cs231n/datasets/cifar-10-batches-py'\n",
    "    \n",
    "    # Cleaning up variables to prevent loading data multiple times (which may cause memory issue)\n",
    "    try:\n",
    "       del X_train, y_train\n",
    "       del X_test, y_test\n",
    "       print('Clear previously loaded data.')\n",
    "    except:\n",
    "       pass\n",
    "\n",
    "    X_train, y_train, X_test, y_test = load_CIFAR10(cifar10_dir)\n",
    "    \n",
    "    # subsample the data\n",
    "    mask = list(range(num_training, num_training + num_validation))\n",
    "    X_val = X_train[mask]\n",
    "    y_val = y_train[mask]\n",
    "    mask = list(range(num_training))\n",
    "    X_train = X_train[mask]\n",
    "    y_train = y_train[mask]\n",
    "    mask = list(range(num_test))\n",
    "    X_test = X_test[mask]\n",
    "    y_test = y_test[mask]\n",
    "    mask = np.random.choice(num_training, num_dev, replace=False)\n",
    "    X_dev = X_train[mask]\n",
    "    y_dev = y_train[mask]\n",
    "    \n",
    "    # Preprocessing: reshape the image data into rows\n",
    "    X_train = np.reshape(X_train, (X_train.shape[0], -1))\n",
    "    X_val = np.reshape(X_val, (X_val.shape[0], -1))\n",
    "    X_test = np.reshape(X_test, (X_test.shape[0], -1))\n",
    "    X_dev = np.reshape(X_dev, (X_dev.shape[0], -1))\n",
    "    \n",
    "    # Normalize the data: subtract the mean image\n",
    "    mean_image = np.mean(X_train, axis = 0)\n",
    "    X_train -= mean_image\n",
    "    X_val -= mean_image\n",
    "    X_test -= mean_image\n",
    "    X_dev -= mean_image\n",
    "    \n",
    "    # add bias dimension and transform into columns\n",
    "    X_train = np.hstack([X_train, np.ones((X_train.shape[0], 1))])\n",
    "    X_val = np.hstack([X_val, np.ones((X_val.shape[0], 1))])\n",
    "    X_test = np.hstack([X_test, np.ones((X_test.shape[0], 1))])\n",
    "    X_dev = np.hstack([X_dev, np.ones((X_dev.shape[0], 1))])\n",
    "    \n",
    "    return X_train, y_train, X_val, y_val, X_test, y_test, X_dev, y_dev\n",
    "\n",
    "\n",
    "# Invoke the above function to get our data.\n",
    "X_train, y_train, X_val, y_val, X_test, y_test, X_dev, y_dev = get_CIFAR10_data()\n",
    "print('Train data shape: ', X_train.shape)\n",
    "print('Train labels shape: ', y_train.shape)\n",
    "print('Validation data shape: ', X_val.shape)\n",
    "print('Validation labels shape: ', y_val.shape)\n",
    "print('Test data shape: ', X_test.shape)\n",
    "print('Test labels shape: ', y_test.shape)\n",
    "print('dev data shape: ', X_dev.shape)\n",
    "print('dev labels shape: ', y_dev.shape)"
   ]
  },
  {
   "cell_type": "markdown",
   "metadata": {},
   "source": [
    "## Softmax Classifier\n",
    "\n",
    "Your code for this section will all be written inside **cs231n/classifiers/softmax.py**. \n"
   ]
  },
  {
   "cell_type": "code",
   "execution_count": 3,
   "metadata": {},
   "outputs": [
    {
     "name": "stdout",
     "output_type": "stream",
     "text": [
      "loss: 2.339503\n",
      "sanity check: 2.302585\n"
     ]
    }
   ],
   "source": [
    "# First implement the naive softmax loss function with nested loops.\n",
    "# Open the file cs231n/classifiers/softmax.py and implement the\n",
    "# softmax_loss_naive function.\n",
    "\n",
    "from cs231n.classifiers.softmax import softmax_loss_naive\n",
    "import time\n",
    "\n",
    "# Generate a random softmax weight matrix and use it to compute the loss.\n",
    "W = np.random.randn(3073, 10) * 0.0001\n",
    "loss, grad = softmax_loss_naive(W, X_dev, y_dev, 0.0)\n",
    "\n",
    "# As a rough sanity check, our loss should be something close to -log(0.1).\n",
    "print('loss: %f' % loss)\n",
    "print('sanity check: %f' % (-np.log(0.1)))"
   ]
  },
  {
   "cell_type": "markdown",
   "metadata": {
    "tags": [
     "pdf-inline"
    ]
   },
   "source": [
    "**Inline Question 1**\n",
    "\n",
    "Why do we expect our loss to be close to -log(0.1)? Explain briefly.**\n",
    "\n",
    "$\\color{blue}{\\textit Your Answer:}$ *Fill this in* \n",
    "\n"
   ]
  },
  {
   "cell_type": "code",
   "execution_count": 5,
   "metadata": {},
   "outputs": [
    {
     "name": "stdout",
     "output_type": "stream",
     "text": [
      "numerical: -0.458158 analytic: -0.458158, relative error: 5.712067e-08\n",
      "numerical: -0.076473 analytic: -0.076473, relative error: 1.976896e-07\n",
      "numerical: -0.511793 analytic: -0.511793, relative error: 1.170418e-07\n",
      "numerical: -2.935682 analytic: -2.935682, relative error: 3.076446e-09\n",
      "numerical: -1.635782 analytic: -1.635782, relative error: 4.523191e-09\n",
      "numerical: 1.621914 analytic: 1.621914, relative error: 1.699809e-08\n",
      "numerical: -0.113030 analytic: -0.113030, relative error: 2.294303e-07\n",
      "numerical: 0.761618 analytic: 0.761618, relative error: 2.553511e-08\n",
      "numerical: -0.497864 analytic: -0.497864, relative error: 2.456526e-08\n",
      "numerical: 0.938564 analytic: 0.938564, relative error: 6.388046e-09\n",
      "numerical: -0.684402 analytic: -0.684402, relative error: 3.619777e-08\n",
      "numerical: -1.129571 analytic: -1.129571, relative error: 2.929105e-09\n",
      "numerical: 1.286742 analytic: 1.286742, relative error: 1.001393e-08\n",
      "numerical: 2.750859 analytic: 2.750859, relative error: 6.476457e-09\n",
      "numerical: 1.606294 analytic: 1.606294, relative error: 7.236422e-09\n",
      "numerical: 2.252928 analytic: 2.252928, relative error: 7.270046e-09\n",
      "numerical: -0.814536 analytic: -0.814536, relative error: 8.194842e-09\n",
      "numerical: 1.180323 analytic: 1.180323, relative error: 3.628845e-09\n",
      "numerical: 0.620804 analytic: 0.620804, relative error: 5.271951e-08\n",
      "numerical: -0.614090 analytic: -0.614090, relative error: 1.788098e-07\n"
     ]
    }
   ],
   "source": [
    "# Complete the implementation of softmax_loss_naive and implement a (naive)\n",
    "# version of the gradient that uses nested loops.\n",
    "loss, grad = softmax_loss_naive(W, X_dev, y_dev, 0.0)\n",
    "\n",
    "# As we did for the SVM, use numeric gradient checking as a debugging tool.\n",
    "# The numeric gradient should be close to the analytic gradient.\n",
    "from cs231n.gradient_check import grad_check_sparse\n",
    "f = lambda w: softmax_loss_naive(w, X_dev, y_dev, 0.0)[0]\n",
    "grad_numerical = grad_check_sparse(f, W, grad, 10)\n",
    "\n",
    "# similar to SVM case, do another gradient check with regularization\n",
    "loss, grad = softmax_loss_naive(W, X_dev, y_dev, 5e1)\n",
    "f = lambda w: softmax_loss_naive(w, X_dev, y_dev, 5e1)[0]\n",
    "grad_numerical = grad_check_sparse(f, W, grad, 10)"
   ]
  },
  {
   "cell_type": "code",
   "execution_count": 5,
   "metadata": {},
   "outputs": [
    {
     "name": "stdout",
     "output_type": "stream",
     "text": [
      "naive loss: 2.361131e+00 computed in 0.183915s\n",
      "vectorized loss: 2.361131e+00 computed in 0.005058s\n",
      "Loss difference: 0.000000\n",
      "Gradient difference: 0.000000\n"
     ]
    }
   ],
   "source": [
    "# Now that we have a naive implementation of the softmax loss function and its gradient,\n",
    "# implement a vectorized version in softmax_loss_vectorized.\n",
    "# The two versions should compute the same results, but the vectorized version should be\n",
    "# much faster.\n",
    "tic = time.time()\n",
    "loss_naive, grad_naive = softmax_loss_naive(W, X_dev, y_dev, 0.000005)\n",
    "toc = time.time()\n",
    "print('naive loss: %e computed in %fs' % (loss_naive, toc - tic))\n",
    "\n",
    "from cs231n.classifiers.softmax import softmax_loss_vectorized\n",
    "tic = time.time()\n",
    "loss_vectorized, grad_vectorized = softmax_loss_vectorized(W, X_dev, y_dev, 0.000005)\n",
    "toc = time.time()\n",
    "print('vectorized loss: %e computed in %fs' % (loss_vectorized, toc - tic))\n",
    "\n",
    "# As we did for the SVM, we use the Frobenius norm to compare the two versions\n",
    "# of the gradient.\n",
    "grad_difference = np.linalg.norm(grad_naive - grad_vectorized, ord='fro')\n",
    "print('Loss difference: %f' % np.abs(loss_naive - loss_vectorized))\n",
    "print('Gradient difference: %f' % grad_difference)"
   ]
  },
  {
   "cell_type": "code",
   "execution_count": 6,
   "metadata": {
    "scrolled": false,
    "tags": [
     "code"
    ]
   },
   "outputs": [
    {
     "name": "stdout",
     "output_type": "stream",
     "text": [
      "lr 1.000000e-08 reg 1.000000e+03 train accuracy: 0.310571 val accuracy: 0.324000\n",
      "lr 1.000000e-08 reg 5.000000e+03 train accuracy: 0.325490 val accuracy: 0.334000\n",
      "lr 1.000000e-08 reg 1.500000e+04 train accuracy: 0.311122 val accuracy: 0.325000\n",
      "lr 1.000000e-08 reg 2.900000e+04 train accuracy: 0.318755 val accuracy: 0.325000\n",
      "lr 1.000000e-08 reg 3.900000e+04 train accuracy: 0.307898 val accuracy: 0.326000\n",
      "lr 1.000000e-08 reg 5.500000e+04 train accuracy: 0.309551 val accuracy: 0.326000\n",
      "lr 1.000000e-08 reg 7.000000e+04 train accuracy: 0.304286 val accuracy: 0.317000\n",
      "lr 1.000000e-08 reg 7.300000e+04 train accuracy: 0.310531 val accuracy: 0.330000\n",
      "lr 1.000000e-08 reg 7.400000e+04 train accuracy: 0.305449 val accuracy: 0.327000\n",
      "lr 1.000000e-08 reg 8.200000e+04 train accuracy: 0.319245 val accuracy: 0.330000\n",
      "lr 2.300000e-07 reg 1.000000e+03 train accuracy: 0.381000 val accuracy: 0.391000\n",
      "lr 2.300000e-07 reg 5.000000e+03 train accuracy: 0.370857 val accuracy: 0.378000\n",
      "lr 2.300000e-07 reg 1.500000e+04 train accuracy: 0.339143 val accuracy: 0.356000\n",
      "lr 2.300000e-07 reg 2.900000e+04 train accuracy: 0.326592 val accuracy: 0.350000\n",
      "lr 2.300000e-07 reg 3.900000e+04 train accuracy: 0.317245 val accuracy: 0.330000\n",
      "lr 2.300000e-07 reg 5.500000e+04 train accuracy: 0.318245 val accuracy: 0.323000\n",
      "lr 2.300000e-07 reg 7.000000e+04 train accuracy: 0.306551 val accuracy: 0.312000\n",
      "lr 2.300000e-07 reg 7.300000e+04 train accuracy: 0.299388 val accuracy: 0.315000\n",
      "lr 2.300000e-07 reg 7.400000e+04 train accuracy: 0.300980 val accuracy: 0.316000\n",
      "lr 2.300000e-07 reg 8.200000e+04 train accuracy: 0.281041 val accuracy: 0.299000\n",
      "lr 3.000000e-07 reg 1.000000e+03 train accuracy: 0.384224 val accuracy: 0.398000\n",
      "lr 3.000000e-07 reg 5.000000e+03 train accuracy: 0.368939 val accuracy: 0.382000\n",
      "lr 3.000000e-07 reg 1.500000e+04 train accuracy: 0.339041 val accuracy: 0.354000\n",
      "lr 3.000000e-07 reg 2.900000e+04 train accuracy: 0.316918 val accuracy: 0.330000\n",
      "lr 3.000000e-07 reg 3.900000e+04 train accuracy: 0.316857 val accuracy: 0.336000\n",
      "lr 3.000000e-07 reg 5.500000e+04 train accuracy: 0.312571 val accuracy: 0.327000\n",
      "lr 3.000000e-07 reg 7.000000e+04 train accuracy: 0.288265 val accuracy: 0.303000\n",
      "lr 3.000000e-07 reg 7.300000e+04 train accuracy: 0.297367 val accuracy: 0.297000\n",
      "lr 3.000000e-07 reg 7.400000e+04 train accuracy: 0.288224 val accuracy: 0.312000\n",
      "lr 3.000000e-07 reg 8.200000e+04 train accuracy: 0.294694 val accuracy: 0.310000\n",
      "lr 3.700000e-07 reg 1.000000e+03 train accuracy: 0.388347 val accuracy: 0.391000\n",
      "lr 3.700000e-07 reg 5.000000e+03 train accuracy: 0.369367 val accuracy: 0.379000\n",
      "lr 3.700000e-07 reg 1.500000e+04 train accuracy: 0.345388 val accuracy: 0.362000\n",
      "lr 3.700000e-07 reg 2.900000e+04 train accuracy: 0.325122 val accuracy: 0.336000\n",
      "lr 3.700000e-07 reg 3.900000e+04 train accuracy: 0.315265 val accuracy: 0.326000\n",
      "lr 3.700000e-07 reg 5.500000e+04 train accuracy: 0.299837 val accuracy: 0.320000\n",
      "lr 3.700000e-07 reg 7.000000e+04 train accuracy: 0.292122 val accuracy: 0.298000\n",
      "lr 3.700000e-07 reg 7.300000e+04 train accuracy: 0.294531 val accuracy: 0.309000\n",
      "lr 3.700000e-07 reg 7.400000e+04 train accuracy: 0.289347 val accuracy: 0.305000\n",
      "lr 3.700000e-07 reg 8.200000e+04 train accuracy: 0.299857 val accuracy: 0.309000\n",
      "lr 4.300000e-07 reg 1.000000e+03 train accuracy: 0.386878 val accuracy: 0.400000\n",
      "lr 4.300000e-07 reg 5.000000e+03 train accuracy: 0.370735 val accuracy: 0.385000\n",
      "lr 4.300000e-07 reg 1.500000e+04 train accuracy: 0.340408 val accuracy: 0.341000\n",
      "lr 4.300000e-07 reg 2.900000e+04 train accuracy: 0.325102 val accuracy: 0.337000\n",
      "lr 4.300000e-07 reg 3.900000e+04 train accuracy: 0.317000 val accuracy: 0.331000\n",
      "lr 4.300000e-07 reg 5.500000e+04 train accuracy: 0.308327 val accuracy: 0.303000\n",
      "lr 4.300000e-07 reg 7.000000e+04 train accuracy: 0.286633 val accuracy: 0.305000\n",
      "lr 4.300000e-07 reg 7.300000e+04 train accuracy: 0.295327 val accuracy: 0.304000\n",
      "lr 4.300000e-07 reg 7.400000e+04 train accuracy: 0.291837 val accuracy: 0.298000\n",
      "lr 4.300000e-07 reg 8.200000e+04 train accuracy: 0.291653 val accuracy: 0.306000\n",
      "lr 4.900000e-07 reg 1.000000e+03 train accuracy: 0.392327 val accuracy: 0.405000\n",
      "lr 4.900000e-07 reg 5.000000e+03 train accuracy: 0.369224 val accuracy: 0.377000\n",
      "lr 4.900000e-07 reg 1.500000e+04 train accuracy: 0.338633 val accuracy: 0.350000\n",
      "lr 4.900000e-07 reg 2.900000e+04 train accuracy: 0.322224 val accuracy: 0.323000\n",
      "lr 4.900000e-07 reg 3.900000e+04 train accuracy: 0.325837 val accuracy: 0.335000\n",
      "lr 4.900000e-07 reg 5.500000e+04 train accuracy: 0.302122 val accuracy: 0.323000\n",
      "lr 4.900000e-07 reg 7.000000e+04 train accuracy: 0.295510 val accuracy: 0.312000\n",
      "lr 4.900000e-07 reg 7.300000e+04 train accuracy: 0.295041 val accuracy: 0.308000\n",
      "lr 4.900000e-07 reg 7.400000e+04 train accuracy: 0.299388 val accuracy: 0.316000\n",
      "lr 4.900000e-07 reg 8.200000e+04 train accuracy: 0.291735 val accuracy: 0.318000\n",
      "lr 5.900000e-07 reg 1.000000e+03 train accuracy: 0.391082 val accuracy: 0.402000\n",
      "lr 5.900000e-07 reg 5.000000e+03 train accuracy: 0.374245 val accuracy: 0.387000\n",
      "lr 5.900000e-07 reg 1.500000e+04 train accuracy: 0.339041 val accuracy: 0.349000\n",
      "lr 5.900000e-07 reg 2.900000e+04 train accuracy: 0.327898 val accuracy: 0.346000\n",
      "lr 5.900000e-07 reg 3.900000e+04 train accuracy: 0.318327 val accuracy: 0.331000\n",
      "lr 5.900000e-07 reg 5.500000e+04 train accuracy: 0.289735 val accuracy: 0.310000\n",
      "lr 5.900000e-07 reg 7.000000e+04 train accuracy: 0.287592 val accuracy: 0.301000\n",
      "lr 5.900000e-07 reg 7.300000e+04 train accuracy: 0.299571 val accuracy: 0.305000\n",
      "lr 5.900000e-07 reg 7.400000e+04 train accuracy: 0.303245 val accuracy: 0.311000\n",
      "lr 5.900000e-07 reg 8.200000e+04 train accuracy: 0.289224 val accuracy: 0.296000\n",
      "lr 6.800000e-07 reg 1.000000e+03 train accuracy: 0.397980 val accuracy: 0.404000\n",
      "lr 6.800000e-07 reg 5.000000e+03 train accuracy: 0.372735 val accuracy: 0.375000\n",
      "lr 6.800000e-07 reg 1.500000e+04 train accuracy: 0.345571 val accuracy: 0.355000\n",
      "lr 6.800000e-07 reg 2.900000e+04 train accuracy: 0.327612 val accuracy: 0.332000\n",
      "lr 6.800000e-07 reg 3.900000e+04 train accuracy: 0.307796 val accuracy: 0.307000\n",
      "lr 6.800000e-07 reg 5.500000e+04 train accuracy: 0.299694 val accuracy: 0.317000\n",
      "lr 6.800000e-07 reg 7.000000e+04 train accuracy: 0.283918 val accuracy: 0.289000\n",
      "lr 6.800000e-07 reg 7.300000e+04 train accuracy: 0.295408 val accuracy: 0.304000\n",
      "lr 6.800000e-07 reg 7.400000e+04 train accuracy: 0.301633 val accuracy: 0.305000\n",
      "lr 6.800000e-07 reg 8.200000e+04 train accuracy: 0.296061 val accuracy: 0.321000\n",
      "lr 9.300000e-07 reg 1.000000e+03 train accuracy: 0.396429 val accuracy: 0.396000\n",
      "lr 9.300000e-07 reg 5.000000e+03 train accuracy: 0.364286 val accuracy: 0.384000\n",
      "lr 9.300000e-07 reg 1.500000e+04 train accuracy: 0.338020 val accuracy: 0.349000\n",
      "lr 9.300000e-07 reg 2.900000e+04 train accuracy: 0.316816 val accuracy: 0.328000\n",
      "lr 9.300000e-07 reg 3.900000e+04 train accuracy: 0.298245 val accuracy: 0.317000\n",
      "lr 9.300000e-07 reg 5.500000e+04 train accuracy: 0.272245 val accuracy: 0.293000\n",
      "lr 9.300000e-07 reg 7.000000e+04 train accuracy: 0.302163 val accuracy: 0.310000\n",
      "lr 9.300000e-07 reg 7.300000e+04 train accuracy: 0.277510 val accuracy: 0.273000\n",
      "lr 9.300000e-07 reg 7.400000e+04 train accuracy: 0.291041 val accuracy: 0.315000\n",
      "lr 9.300000e-07 reg 8.200000e+04 train accuracy: 0.264408 val accuracy: 0.284000\n",
      "lr 9.900000e-07 reg 1.000000e+03 train accuracy: 0.394571 val accuracy: 0.402000\n",
      "lr 9.900000e-07 reg 5.000000e+03 train accuracy: 0.367041 val accuracy: 0.373000\n",
      "lr 9.900000e-07 reg 1.500000e+04 train accuracy: 0.336327 val accuracy: 0.349000\n",
      "lr 9.900000e-07 reg 2.900000e+04 train accuracy: 0.309449 val accuracy: 0.304000\n",
      "lr 9.900000e-07 reg 3.900000e+04 train accuracy: 0.291633 val accuracy: 0.311000\n",
      "lr 9.900000e-07 reg 5.500000e+04 train accuracy: 0.285163 val accuracy: 0.293000\n",
      "lr 9.900000e-07 reg 7.000000e+04 train accuracy: 0.308224 val accuracy: 0.329000\n",
      "lr 9.900000e-07 reg 7.300000e+04 train accuracy: 0.286184 val accuracy: 0.306000\n",
      "lr 9.900000e-07 reg 7.400000e+04 train accuracy: 0.293245 val accuracy: 0.305000\n",
      "lr 9.900000e-07 reg 8.200000e+04 train accuracy: 0.290531 val accuracy: 0.300000\n",
      "best validation accuracy achieved during cross-validation: 0.405000\n"
     ]
    }
   ],
   "source": [
    "# Use the validation set to tune hyperparameters (regularization strength and\n",
    "# learning rate). You should experiment with different ranges for the learning\n",
    "# rates and regularization strengths; if you are careful you should be able to\n",
    "# get a classification accuracy of over 0.35 on the validation set.\n",
    "from cs231n.classifiers import Softmax\n",
    "results = {}\n",
    "best_val = -1\n",
    "best_softmax = None\n",
    "learning_rates = np.random.randint(1, 100, 10) * 1e-8\n",
    "#learning_rates = [1e-8]\n",
    "regularization_strengths = np.random.randint(1, 100, 10) * 1e3\n",
    "\n",
    "################################################################################\n",
    "# TODO:                                                                        #\n",
    "# Use the validation set to set the learning rate and regularization strength. #\n",
    "# This should be identical to the validation that you did for the SVM; save    #\n",
    "# the best trained softmax classifer in best_softmax.                          #\n",
    "################################################################################\n",
    "# *****START OF YOUR CODE (DO NOT DELETE/MODIFY THIS LINE)*****\n",
    "model = Softmax()\n",
    "for lr in learning_rates:\n",
    "    for reg in regularization_strengths:\n",
    "        loss_history = model.train(X_train, y_train, learning_rate=lr, reg=reg, num_iters=500)\n",
    "        y_pred_val = model.predict(X_val)\n",
    "        acc_val = np.sum(y_pred_val == y_val) / len(y_val)\n",
    "        \n",
    "        y_pred_train = model.predict(X_train)\n",
    "        acc_train = np.sum(y_pred_train == y_train) / len(y_train)\n",
    "        results[(lr,reg)] = (acc_train, acc_val)\n",
    "        if acc_val > best_val:\n",
    "            best_val = acc_val\n",
    "            best_softmax = model\n",
    "\n",
    "# *****END OF YOUR CODE (DO NOT DELETE/MODIFY THIS LINE)*****\n",
    "    \n",
    "# Print out results.\n",
    "for lr, reg in sorted(results):\n",
    "    train_accuracy, val_accuracy = results[(lr, reg)]\n",
    "    print('lr %e reg %e train accuracy: %f val accuracy: %f' % (\n",
    "                lr, reg, train_accuracy, val_accuracy))\n",
    "    \n",
    "print('best validation accuracy achieved during cross-validation: %f' % best_val)"
   ]
  },
  {
   "cell_type": "code",
   "execution_count": 7,
   "metadata": {},
   "outputs": [
    {
     "name": "stdout",
     "output_type": "stream",
     "text": [
      "softmax on raw pixels final test set accuracy: 0.309000\n"
     ]
    }
   ],
   "source": [
    "# evaluate on test set\n",
    "# Evaluate the best softmax on test set\n",
    "y_test_pred = best_softmax.predict(X_test)\n",
    "test_accuracy = np.mean(y_test == y_test_pred)\n",
    "print('softmax on raw pixels final test set accuracy: %f' % (test_accuracy, ))"
   ]
  },
  {
   "cell_type": "markdown",
   "metadata": {
    "tags": [
     "pdf-inline"
    ]
   },
   "source": [
    "**Inline Question 2** - *True or False*\n",
    "\n",
    "Suppose the overall training loss is defined as the sum of the per-datapoint loss over all training examples. It is possible to add a new datapoint to a training set that would leave the SVM loss unchanged, but this is not the case with the Softmax classifier loss.\n",
    "\n",
    "$\\color{blue}{\\textit Your Answer:}$\n",
    "\n",
    "\n",
    "$\\color{blue}{\\textit Your Explanation:}$\n",
    "\n"
   ]
  },
  {
   "cell_type": "code",
   "execution_count": 10,
   "metadata": {},
   "outputs": [
    {
     "data": {
      "image/png": "[encoded data removed]",
      "text/plain": [
       "<Figure size 720x576 with 10 Axes>"
      ]
     },
     "metadata": {
      "needs_background": "light"
     },
     "output_type": "display_data"
    }
   ],
   "source": [
    "# Visualize the learned weights for each class\n",
    "w = best_softmax.W[:-1,:] # strip out the bias\n",
    "w = w.reshape(32, 32, 3, 10)\n",
    "\n",
    "w_min, w_max = np.min(w), np.max(w)\n",
    "\n",
    "classes = ['plane', 'car', 'bird', 'cat', 'deer', 'dog', 'frog', 'horse', 'ship', 'truck']\n",
    "for i in range(10):\n",
    "    plt.subplot(2, 5, i + 1)\n",
    "    \n",
    "    # Rescale the weights to be between 0 and 255\n",
    "    wimg = 255.0 * (w[:, :, :, i].squeeze() - w_min) / (w_max - w_min)\n",
    "    plt.imshow(wimg.astype('uint8'))\n",
    "    plt.axis('off')\n",
    "    plt.title(classes[i])"
   ]
  },
  {
   "cell_type": "code",
   "execution_count": null,
   "metadata": {},
   "outputs": [],
   "source": []
  }
 ],
 "metadata": {
  "kernelspec": {
   "display_name": "Python 3",
   "language": "python",
   "name": "python3"
  },
  "language_info": {
   "codemirror_mode": {
    "name": "ipython",
    "version": 3
   },
   "file_extension": ".py",
   "mimetype": "text/x-python",
   "name": "python",
   "nbconvert_exporter": "python",
   "pygments_lexer": "ipython3",
   "version": "3.7.4"
  },
  "toc": {
   "base_numbering": 1,
   "nav_menu": {},
   "number_sections": true,
   "sideBar": true,
   "skip_h1_title": false,
   "title_cell": "Table of Contents",
   "title_sidebar": "Contents",
   "toc_cell": false,
   "toc_position": {},
   "toc_section_display": true,
   "toc_window_display": false
  }
 },
 "nbformat": 4,
 "nbformat_minor": 1
}
